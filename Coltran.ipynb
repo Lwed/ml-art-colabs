{
  "nbformat": 4,
  "nbformat_minor": 0,
  "metadata": {
    "colab": {
      "name": "Coltran.ipynb",
      "private_outputs": true,
      "provenance": [],
      "machine_shape": "hm",
      "authorship_tag": "ABX9TyMCIuAF0E1lG1rGXbQ9MB6K",
      "include_colab_link": true
    },
    "kernelspec": {
      "name": "python3",
      "display_name": "Python 3"
    },
    "language_info": {
      "name": "python"
    },
    "accelerator": "GPU"
  },
  "cells": [
    {
      "cell_type": "markdown",
      "metadata": {
        "id": "view-in-github",
        "colab_type": "text"
      },
      "source": [
        "<a href=\"https://colab.research.google.com/github/dvschultz/ml-art-colabs/blob/master/Coltran.ipynb\" target=\"_parent\"><img src=\"https://colab.research.google.com/assets/colab-badge.svg\" alt=\"Open In Colab\"/></a>"
      ]
    },
    {
      "cell_type": "code",
      "metadata": {
        "id": "2C3xG-CWxk-R"
      },
      "source": [
        "!git clone https://github.com/google-research/google-research/\n",
        "!pip install -r ./coltran/requirements.txt"
      ],
      "execution_count": null,
      "outputs": []
    },
    {
      "cell_type": "code",
      "metadata": {
        "id": "YCuQ5q9WyGI9"
      },
      "source": [
        "!wget https://storage.cloud.google.com/gresearch/coltran/coltran.zip"
      ],
      "execution_count": null,
      "outputs": []
    },
    {
      "cell_type": "code",
      "metadata": {
        "id": "lQ44RgwHy8qK"
      },
      "source": [
        "!unzip /content/coltran_coltran.zip"
      ],
      "execution_count": null,
      "outputs": []
    },
    {
      "cell_type": "code",
      "metadata": {
        "id": "MyZTOLIA8YI1"
      },
      "source": [
        "cd /content/google-research/"
      ],
      "execution_count": null,
      "outputs": []
    },
    {
      "cell_type": "code",
      "metadata": {
        "id": "BSupSyvA06A9"
      },
      "source": [
        "!python -m custom_colorize --config=coltran/configs/colorizer.py --logdir=coltran/coltran/colorizer --img_dir=coltran/test-qifengle --store_dir=coltran/results --mode=colorize\n"
      ],
      "execution_count": null,
      "outputs": []
    },
    {
      "cell_type": "code",
      "metadata": {
        "id": "7jDHTKcf8c-X"
      },
      "source": [
        "LOGDIR = \"/content/coltran/coltran\"\n",
        "IMG_DIR = \"/content/test/\"\n",
        "STORE_DIR = \"/content/results/\"\n",
        "MODE = \"recolorize\"\n",
        "\n",
        "!python -m coltran.custom_colorize --config=coltran/configs/colorizer.py \\\n",
        "--logdir=$LOGDIR/colorizer --img_dir=$IMG_DIR --store_dir=$STORE_DIR \\\n",
        "--mode=$MODE"
      ],
      "execution_count": null,
      "outputs": []
    },
    {
      "cell_type": "code",
      "metadata": {
        "id": "rr_lsL7P9jPd"
      },
      "source": [
        "!python -m coltran.custom_colorize --config=coltran/configs/color_upsampler.py \\\n",
        "--logdir=$LOGDIR/color_upsampler --img_dir=$IMG_DIR --store_dir=$STORE_DIR \\\n",
        "--gen_data_dir=$STORE_DIR/stage1 --mode=$MODE"
      ],
      "execution_count": null,
      "outputs": []
    },
    {
      "cell_type": "code",
      "metadata": {
        "id": "Mn-EhqX8BjGE"
      },
      "source": [
        "!python -m coltran.custom_colorize --config=coltran/configs/spatial_upsampler.py \\\n",
        "--logdir=$LOGDIR/spatial_upsampler --img_dir=$IMG_DIR --store_dir=$STORE_DIR \\\n",
        "--gen_data_dir=$STORE_DIR/stage2 --mode=$MODE"
      ],
      "execution_count": null,
      "outputs": []
    },
    {
      "cell_type": "code",
      "metadata": {
        "id": "m39Ypee0Cetx"
      },
      "source": [
        ""
      ],
      "execution_count": null,
      "outputs": []
    }
  ]
}